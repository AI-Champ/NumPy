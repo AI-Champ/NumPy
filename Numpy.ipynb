{
  "nbformat": 4,
  "nbformat_minor": 0,
  "metadata": {
    "colab": {
      "provenance": [],
      "mount_file_id": "1Io6HOLxkqj4ZPUi2eW3S1bsihSTGrQhG",
      "authorship_tag": "ABX9TyMdfzQg0IwOzccDZQUHACsd",
      "include_colab_link": true
    },
    "kernelspec": {
      "name": "python3",
      "display_name": "Python 3"
    },
    "language_info": {
      "name": "python"
    }
  },
  "cells": [
    {
      "cell_type": "markdown",
      "metadata": {
        "id": "view-in-github",
        "colab_type": "text"
      },
      "source": [
        "<a href=\"https://colab.research.google.com/github/AI-Champ/NumPy/blob/main/Numpy.ipynb\" target=\"_parent\"><img src=\"https://colab.research.google.com/assets/colab-badge.svg\" alt=\"Open In Colab\"/></a>"
      ]
    },
    {
      "cell_type": "markdown",
      "source": [
        "# NumPy."
      ],
      "metadata": {
        "id": "ckAZmgBVFJ4u"
      }
    },
    {
      "cell_type": "code",
      "source": [
        "# NumPy stands for \"Numerical Python\".\n",
        "# It is a popular open-source numerical computing library.\n",
        "# It provides powerful tools and functions for handling large, multi-dimensional arrays and matrices.\n",
        "# It has also a vast collection of mathematical functions to operate on these arrays efficiently.\n",
        "\n",
        "# 3 main features of Numpy:\n",
        "\n",
        "# Broadcasting: Arrays with different shapes can be operated together.\n",
        "\n",
        "# Linear Algebra Operations: It provides linear algebra functions for operations like matrix multiplication, factorization, eigenvalues, and more.\n",
        "\n",
        "# Integration with other Libraries: Can easily work with some other librarires, such as SciPy, pandas, scikit-learn, and TensorFlow."
      ],
      "metadata": {
        "id": "hGTy_ldufQAf"
      },
      "execution_count": null,
      "outputs": []
    },
    {
      "cell_type": "code",
      "source": [
        "import numpy as np"
      ],
      "metadata": {
        "id": "Qbb-_36a0eYK"
      },
      "execution_count": null,
      "outputs": []
    },
    {
      "cell_type": "code",
      "source": [
        "# Create one dimensional array.\n",
        "\n",
        "np.array([1,2,3])"
      ],
      "metadata": {
        "id": "W7IXHlBs00IZ"
      },
      "execution_count": null,
      "outputs": []
    },
    {
      "cell_type": "code",
      "source": [
        "# Create 2 dimensional array.\n",
        "np.array([[1,2,3],[4,5,6]])"
      ],
      "metadata": {
        "id": "ENAcgY2Z42qA"
      },
      "execution_count": null,
      "outputs": []
    },
    {
      "cell_type": "code",
      "source": [
        "# To check the dimension\n",
        "x=np.array([1,2,3])\n",
        "y=np.array([[1,2,3],[4,5,6]])\n",
        "print(x.ndim)\n",
        "print(\"-\"*20)\n",
        "print(y.ndim)"
      ],
      "metadata": {
        "id": "c02TVT3749j0"
      },
      "execution_count": null,
      "outputs": []
    },
    {
      "cell_type": "code",
      "source": [
        "# Create array from list\n",
        "list1=[1,2,3]\n",
        "list2=[[1,2,3],[4,5,6]]\n",
        "x=np.array(list1)\n",
        "y=np.array(list2)\n",
        "\n",
        "print(x)\n",
        "print(\"-\"*20)\n",
        "print(y)"
      ],
      "metadata": {
        "id": "dxE19uAo5eiJ"
      },
      "execution_count": null,
      "outputs": []
    },
    {
      "cell_type": "code",
      "source": [
        "# Create array using arange functon\n",
        "x=np.arange(10)\n",
        "x"
      ],
      "metadata": {
        "id": "wb8qZSEZ2Gbs"
      },
      "execution_count": null,
      "outputs": []
    },
    {
      "cell_type": "code",
      "source": [
        "x=np.arange(1,11)\n",
        "x"
      ],
      "metadata": {
        "id": "NNdLJsCl25kt"
      },
      "execution_count": null,
      "outputs": []
    },
    {
      "cell_type": "code",
      "source": [
        "x=np.arange(1,11,2)\n",
        "x"
      ],
      "metadata": {
        "id": "YSC6cpAV3EA1"
      },
      "execution_count": null,
      "outputs": []
    },
    {
      "cell_type": "code",
      "source": [
        "# How can you check the shape of the array\n",
        "list1=[1,2,3]\n",
        "list2=[[1,2,3],[4,5,6]]\n",
        "x=np.array(list1)\n",
        "y=np.array(list2)\n",
        "\n",
        "print(x)\n",
        "print(\"-\"*20)\n",
        "print(y)"
      ],
      "metadata": {
        "id": "ptsgeAZj3I3Q"
      },
      "execution_count": null,
      "outputs": []
    },
    {
      "cell_type": "code",
      "source": [
        "x.shape"
      ],
      "metadata": {
        "id": "z31QsJKY3qwP"
      },
      "execution_count": null,
      "outputs": []
    },
    {
      "cell_type": "code",
      "source": [
        "y.shape"
      ],
      "metadata": {
        "id": "jVz765wg4BTC"
      },
      "execution_count": null,
      "outputs": []
    },
    {
      "cell_type": "code",
      "source": [
        "np.shape(x)"
      ],
      "metadata": {
        "id": "cokHX8VH4DGd"
      },
      "execution_count": null,
      "outputs": []
    },
    {
      "cell_type": "code",
      "source": [
        "np.shape(y)"
      ],
      "metadata": {
        "id": "UYafs99l4Fxc"
      },
      "execution_count": null,
      "outputs": []
    },
    {
      "cell_type": "code",
      "source": [
        "# How can you reshape the array\n",
        "x=np.arange(10)\n",
        "x"
      ],
      "metadata": {
        "id": "1oK2Rc5B4Hoy"
      },
      "execution_count": null,
      "outputs": []
    },
    {
      "cell_type": "code",
      "source": [
        "len(x)"
      ],
      "metadata": {
        "id": "u4YIfooN4Zgq"
      },
      "execution_count": null,
      "outputs": []
    },
    {
      "cell_type": "code",
      "source": [
        "x.reshape(2,5)"
      ],
      "metadata": {
        "id": "ObMuL2Iy4nXH"
      },
      "execution_count": null,
      "outputs": []
    },
    {
      "cell_type": "code",
      "source": [
        "x"
      ],
      "metadata": {
        "id": "-_b-Cqp44tz5"
      },
      "execution_count": null,
      "outputs": []
    },
    {
      "cell_type": "code",
      "source": [
        "x=x.reshape(2,5)\n",
        "x"
      ],
      "metadata": {
        "id": "H6INs2nX4v2E"
      },
      "execution_count": null,
      "outputs": []
    },
    {
      "cell_type": "code",
      "source": [
        "# create one dimension array of values zero\n",
        "x=np.zeros(5)\n",
        "x"
      ],
      "metadata": {
        "id": "iZdFuM-55NwZ"
      },
      "execution_count": null,
      "outputs": []
    },
    {
      "cell_type": "code",
      "source": [
        "# create multi dimension array of values zero\n",
        "x=np.zeros((5,2))\n",
        "x"
      ],
      "metadata": {
        "id": "m_BDwNPk5-0_"
      },
      "execution_count": null,
      "outputs": []
    },
    {
      "cell_type": "code",
      "source": [
        "# create one dimension array of values one\n",
        "x=np.ones(5)\n",
        "x"
      ],
      "metadata": {
        "id": "sTzAdVri6YWY"
      },
      "execution_count": null,
      "outputs": []
    },
    {
      "cell_type": "code",
      "source": [
        "# create multi dimension array of values one\n",
        "x=np.ones((3,4))\n",
        "x"
      ],
      "metadata": {
        "id": "VqRcKv4O6yc-"
      },
      "execution_count": null,
      "outputs": []
    },
    {
      "cell_type": "code",
      "source": [
        "# Create identity matrix as well\n",
        "x=np.eye(3)\n",
        "x"
      ],
      "metadata": {
        "id": "gWHg-nm563LP"
      },
      "execution_count": null,
      "outputs": []
    },
    {
      "cell_type": "code",
      "source": [
        "# Linspace function\n",
        "# Create an array of evenly spaced values within a specified range.\n",
        "# It takes three parameters: start, stop, and num.\n",
        "\n",
        "# Evenly spaced means, values are uniformly distributed.\n",
        "# The difference between consecutive values is approximately same.\n",
        "\n",
        "x = np.linspace(0,10,5)\n",
        "print(x)"
      ],
      "metadata": {
        "id": "inNQAua77EV2"
      },
      "execution_count": null,
      "outputs": []
    },
    {
      "cell_type": "code",
      "source": [
        "x = np.linspace(1.5,6,9)\n",
        "print(x)"
      ],
      "metadata": {
        "id": "eTg6NXxl-r0e"
      },
      "execution_count": null,
      "outputs": []
    },
    {
      "cell_type": "code",
      "source": [
        "# Random function.\n",
        "# If you want 3 random intergers of array between 1 tp 100.\n",
        "np.random.randint(1,100,3)"
      ],
      "metadata": {
        "id": "Ptehcqvn--RR"
      },
      "execution_count": null,
      "outputs": []
    },
    {
      "cell_type": "code",
      "source": [
        "np.random.randint(90,200,5)"
      ],
      "metadata": {
        "id": "gd6pw3-v_w8S"
      },
      "execution_count": null,
      "outputs": []
    },
    {
      "cell_type": "code",
      "source": [
        "np.random.randint(90,200,size=(2,3))"
      ],
      "metadata": {
        "id": "4sr3tVxpAVGz"
      },
      "execution_count": null,
      "outputs": []
    },
    {
      "cell_type": "code",
      "source": [
        "# If you want to generate an array having standard normal distribution(mean=0 and stdv=1)\n",
        "np.random.randn(3)"
      ],
      "metadata": {
        "id": "4Q24CUR2BAKJ"
      },
      "execution_count": null,
      "outputs": []
    },
    {
      "cell_type": "code",
      "source": [
        "np.random.randn(3,2)"
      ],
      "metadata": {
        "id": "nuqkl3aHBa7f"
      },
      "execution_count": null,
      "outputs": []
    },
    {
      "cell_type": "code",
      "source": [
        "# If you want to generate an array of random numbers between 0 and 1.\n",
        "np.random.rand(3)"
      ],
      "metadata": {
        "id": "Yipa7hPQBvTJ"
      },
      "execution_count": null,
      "outputs": []
    },
    {
      "cell_type": "code",
      "source": [
        "np.random.rand(3,2)"
      ],
      "metadata": {
        "id": "arJgEtk8CWJ-"
      },
      "execution_count": null,
      "outputs": []
    },
    {
      "cell_type": "code",
      "source": [
        "# If you want to check minimum and maximum values in an array.\n",
        "x=np.random.randint(1,100,size=(4,4))\n",
        "x"
      ],
      "metadata": {
        "id": "3Ue3t7T0CdM9"
      },
      "execution_count": null,
      "outputs": []
    },
    {
      "cell_type": "code",
      "source": [
        "x.max()"
      ],
      "metadata": {
        "id": "ij4t4fIsC7TC"
      },
      "execution_count": null,
      "outputs": []
    },
    {
      "cell_type": "code",
      "source": [
        "np.max(x)"
      ],
      "metadata": {
        "id": "yASbzKFqC9qG"
      },
      "execution_count": null,
      "outputs": []
    },
    {
      "cell_type": "code",
      "source": [
        "x.min()"
      ],
      "metadata": {
        "id": "IGvcM8QxC_qw"
      },
      "execution_count": null,
      "outputs": []
    },
    {
      "cell_type": "code",
      "source": [
        "np.min(x)"
      ],
      "metadata": {
        "id": "fHyQoGiwDCYo"
      },
      "execution_count": null,
      "outputs": []
    },
    {
      "cell_type": "code",
      "source": [
        "# If you want to check the index position of the minimum and maximum values in an array.\n",
        "x"
      ],
      "metadata": {
        "id": "EGZ48c1RDEVO"
      },
      "execution_count": null,
      "outputs": []
    },
    {
      "cell_type": "code",
      "source": [
        "x.argmax()"
      ],
      "metadata": {
        "id": "HjlI0cB-DPyu"
      },
      "execution_count": null,
      "outputs": []
    },
    {
      "cell_type": "code",
      "source": [
        "np.argmax(x)"
      ],
      "metadata": {
        "id": "y9zpfD9gDXbN"
      },
      "execution_count": null,
      "outputs": []
    },
    {
      "cell_type": "code",
      "source": [
        "x.argmin()"
      ],
      "metadata": {
        "id": "Kr1OqGqADZPJ"
      },
      "execution_count": null,
      "outputs": []
    },
    {
      "cell_type": "code",
      "source": [
        "np.argmin(x)"
      ],
      "metadata": {
        "id": "3SlOuv3nDfHF"
      },
      "execution_count": null,
      "outputs": []
    },
    {
      "cell_type": "code",
      "source": [
        "# If you want to check the data type of the array.\n",
        "x.dtype"
      ],
      "metadata": {
        "id": "zfu9aGmtDg98"
      },
      "execution_count": null,
      "outputs": []
    },
    {
      "cell_type": "code",
      "source": [
        "# Array indexing.\n",
        "x=np.linspace(1,10,6)\n",
        "x"
      ],
      "metadata": {
        "id": "vDYiLaO_LAqh"
      },
      "execution_count": null,
      "outputs": []
    },
    {
      "cell_type": "code",
      "source": [
        "x[:]"
      ],
      "metadata": {
        "id": "3junp_IMLASr"
      },
      "execution_count": null,
      "outputs": []
    },
    {
      "cell_type": "code",
      "source": [
        "x[0]"
      ],
      "metadata": {
        "id": "LO1QNXgJLL-3"
      },
      "execution_count": null,
      "outputs": []
    },
    {
      "cell_type": "code",
      "source": [
        "x[3:]"
      ],
      "metadata": {
        "id": "F4UDuTCrLOif"
      },
      "execution_count": null,
      "outputs": []
    },
    {
      "cell_type": "code",
      "source": [
        "x[:3]"
      ],
      "metadata": {
        "id": "uDsOAfOOLS0p"
      },
      "execution_count": null,
      "outputs": []
    },
    {
      "cell_type": "code",
      "source": [
        "x=np.random.randint(1,100,size=(4,4))\n",
        "x"
      ],
      "metadata": {
        "id": "XcAssAr2EAwS"
      },
      "execution_count": null,
      "outputs": []
    },
    {
      "cell_type": "code",
      "source": [
        "x[:]"
      ],
      "metadata": {
        "id": "409GiJLIK98S"
      },
      "execution_count": null,
      "outputs": []
    },
    {
      "cell_type": "code",
      "source": [
        "x[:,3]"
      ],
      "metadata": {
        "id": "d0H8LiPuLYnu"
      },
      "execution_count": null,
      "outputs": []
    },
    {
      "cell_type": "code",
      "source": [
        "x[2,3]"
      ],
      "metadata": {
        "id": "DpwdjQBqLdfs"
      },
      "execution_count": null,
      "outputs": []
    },
    {
      "cell_type": "code",
      "source": [
        "x[:2,2:]"
      ],
      "metadata": {
        "id": "dhoUVvtnL8YX"
      },
      "execution_count": null,
      "outputs": []
    },
    {
      "cell_type": "code",
      "source": [
        "# Array conditional selection.\n",
        "x"
      ],
      "metadata": {
        "id": "cr4saoGrMDQo"
      },
      "execution_count": null,
      "outputs": []
    },
    {
      "cell_type": "code",
      "source": [
        "x[x>40]"
      ],
      "metadata": {
        "id": "JLZo3fzHMedm"
      },
      "execution_count": null,
      "outputs": []
    },
    {
      "cell_type": "code",
      "source": [
        "x[x>=83]"
      ],
      "metadata": {
        "id": "bvtV2L4kMgSw"
      },
      "execution_count": null,
      "outputs": []
    },
    {
      "cell_type": "code",
      "source": [
        "# Arithmetic operation.\n",
        "x"
      ],
      "metadata": {
        "id": "PhmQoIK5MjKb"
      },
      "execution_count": null,
      "outputs": []
    },
    {
      "cell_type": "code",
      "source": [
        "x+10"
      ],
      "metadata": {
        "id": "2I4hx9FtM4Ti"
      },
      "execution_count": null,
      "outputs": []
    },
    {
      "cell_type": "code",
      "source": [
        "y=[1,2,3]"
      ],
      "metadata": {
        "id": "K1gD4BlJM6on"
      },
      "execution_count": null,
      "outputs": []
    },
    {
      "cell_type": "code",
      "source": [
        "# x+y"
      ],
      "metadata": {
        "id": "RoIw-bR2NAuN"
      },
      "execution_count": null,
      "outputs": []
    },
    {
      "cell_type": "code",
      "source": [
        "np.sin(x)"
      ],
      "metadata": {
        "id": "8gXmEuurNBwN"
      },
      "execution_count": null,
      "outputs": []
    },
    {
      "cell_type": "code",
      "source": [
        "np.sqrt(x)"
      ],
      "metadata": {
        "id": "qYYhTbnjNIiu"
      },
      "execution_count": null,
      "outputs": []
    },
    {
      "cell_type": "code",
      "source": [
        "np.log(x)"
      ],
      "metadata": {
        "id": "216Opi-4NO3g"
      },
      "execution_count": null,
      "outputs": []
    },
    {
      "cell_type": "code",
      "source": [
        "def func1(n):\n",
        "  return n+5\n",
        "\n",
        "func1(x)"
      ],
      "metadata": {
        "id": "XEvk5wnTNSdp"
      },
      "execution_count": null,
      "outputs": []
    },
    {
      "cell_type": "markdown",
      "source": [
        "# Randomly sampling."
      ],
      "metadata": {
        "id": "bDJ9dVsBNFps"
      }
    },
    {
      "cell_type": "code",
      "source": [
        "# Randomly sample elements from an array.\n",
        "\n",
        "my_array = np.array([1, 2, 3, 4, 5])\n",
        "\n",
        "# Randomly sample 3 elements from the array without replacement\n",
        "random_sample = np.random.choice(my_array, size=3, replace=False)\n",
        "\n",
        "print(random_sample)"
      ],
      "metadata": {
        "id": "jEONoX34Ncdj",
        "colab": {
          "base_uri": "https://localhost:8080/"
        },
        "outputId": "c614f1fa-d270-4d56-c6b2-96d72fa65e98"
      },
      "execution_count": 173,
      "outputs": [
        {
          "output_type": "stream",
          "name": "stdout",
          "text": [
            "[3 5 2]\n"
          ]
        }
      ]
    },
    {
      "cell_type": "markdown",
      "source": [
        "# Shuffle the elements."
      ],
      "metadata": {
        "id": "YUg58SYkM-JN"
      }
    },
    {
      "cell_type": "code",
      "source": [
        "# Shuffle the elements of an array.\n",
        "\n",
        "my_array = np.array([1, 2, 3, 4, 5])\n",
        "\n",
        "np.random.shuffle(my_array)\n",
        "\n",
        "print(my_array)"
      ],
      "metadata": {
        "id": "otFowq5oGasn",
        "colab": {
          "base_uri": "https://localhost:8080/"
        },
        "outputId": "0a1a8de3-afa0-4bdb-90b3-626e61deca08"
      },
      "execution_count": 174,
      "outputs": [
        {
          "output_type": "stream",
          "name": "stdout",
          "text": [
            "[5 3 4 1 2]\n"
          ]
        }
      ]
    },
    {
      "cell_type": "markdown",
      "source": [
        "# Transpose."
      ],
      "metadata": {
        "id": "r2v8ci9FM2cp"
      }
    },
    {
      "cell_type": "code",
      "source": [
        "# Transpose an array.\n",
        "\n",
        "my_array = np.array([[1, 2, 3], [4, 5, 6]])\n",
        "print(my_array)\n",
        "print('-'*30)\n",
        "\n",
        "transposed_array = np.transpose(my_array)\n",
        "\n",
        "print(transposed_array)"
      ],
      "metadata": {
        "id": "eJKGiYwMHe4G",
        "colab": {
          "base_uri": "https://localhost:8080/"
        },
        "outputId": "5d2bceef-1bcc-4948-859d-174f62e51a4e"
      },
      "execution_count": 175,
      "outputs": [
        {
          "output_type": "stream",
          "name": "stdout",
          "text": [
            "[[1 2 3]\n",
            " [4 5 6]]\n",
            "------------------------------\n",
            "[[1 4]\n",
            " [2 5]\n",
            " [3 6]]\n"
          ]
        }
      ]
    },
    {
      "cell_type": "markdown",
      "source": [
        "# Concatenate"
      ],
      "metadata": {
        "id": "HpiCdSeqMxg-"
      }
    },
    {
      "cell_type": "code",
      "source": [
        "# Concatenate arrays along a specified axis.\n",
        "\n",
        "array1 = np.array([1, 2, 3])\n",
        "array2 = np.array([4, 5, 6])\n",
        "\n",
        "# Concatenate the arrays along the 0th axis (default)\n",
        "concatenated_array = np.concatenate((array1, array2))\n",
        "\n",
        "print(concatenated_array)"
      ],
      "metadata": {
        "id": "yRfPaFkbIC5J",
        "colab": {
          "base_uri": "https://localhost:8080/"
        },
        "outputId": "3a7e7d9c-5e46-4aaf-d01b-09df22ed5400"
      },
      "execution_count": 176,
      "outputs": [
        {
          "output_type": "stream",
          "name": "stdout",
          "text": [
            "[1 2 3 4 5 6]\n"
          ]
        }
      ]
    },
    {
      "cell_type": "code",
      "source": [
        "array1 = np.array([[1, 2], [3, 4]])\n",
        "array2 = np.array([[5, 6], [7, 8]])\n",
        "print(array1)\n",
        "print('-'*40)\n",
        "print(array2)\n",
        "print('-'*40)\n",
        "\n",
        "# Concatenate along axis 0 (rows)\n",
        "concatenated_rows = np.concatenate((array1, array2), axis=0)\n",
        "\n",
        "# Concatenate along axis 1 (columns)\n",
        "concatenated_columns = np.concatenate((array1, array2), axis=1)\n",
        "\n",
        "print(\"Concatenated along rows (axis 0):\")\n",
        "print(concatenated_rows)\n",
        "print('-'*40)\n",
        "\n",
        "print(\"Concatenated along columns (axis 1):\")\n",
        "print(concatenated_columns)"
      ],
      "metadata": {
        "id": "sNqvv2b7I6DA",
        "colab": {
          "base_uri": "https://localhost:8080/"
        },
        "outputId": "6324d732-09b3-4ce4-9eb1-88442cf00a93"
      },
      "execution_count": 177,
      "outputs": [
        {
          "output_type": "stream",
          "name": "stdout",
          "text": [
            "[[1 2]\n",
            " [3 4]]\n",
            "----------------------------------------\n",
            "[[5 6]\n",
            " [7 8]]\n",
            "----------------------------------------\n",
            "Concatenated along rows (axis 0):\n",
            "[[1 2]\n",
            " [3 4]\n",
            " [5 6]\n",
            " [7 8]]\n",
            "----------------------------------------\n",
            "Concatenated along columns (axis 1):\n",
            "[[1 2 5 6]\n",
            " [3 4 7 8]]\n"
          ]
        }
      ]
    },
    {
      "cell_type": "markdown",
      "source": [
        "# Split"
      ],
      "metadata": {
        "id": "xGDp3KctK1uL"
      }
    },
    {
      "cell_type": "code",
      "source": [
        "# Split an array into multiple sub-arrays.\n",
        "my_array = np.array([1, 2, 3, 4, 5, 6])\n",
        "\n",
        "# Split the array into three sub-arrays\n",
        "sub_arrays = np.split(my_array, 3)\n",
        "\n",
        "print(sub_arrays)"
      ],
      "metadata": {
        "id": "AIG_IuATJI1d",
        "colab": {
          "base_uri": "https://localhost:8080/"
        },
        "outputId": "cf676e8b-7d53-42c8-acb8-d61a952d4294"
      },
      "execution_count": 178,
      "outputs": [
        {
          "output_type": "stream",
          "name": "stdout",
          "text": [
            "[array([1, 2]), array([3, 4]), array([5, 6])]\n"
          ]
        }
      ]
    },
    {
      "cell_type": "code",
      "source": [
        "my_array = np.array([1, 2, 3, 4, 5, 6, 7, 8, 9])\n",
        "\n",
        "# Split the array at indices 2 and 6\n",
        "sub_arrays = np.split(my_array, [2, 6])\n",
        "\n",
        "print(sub_arrays)"
      ],
      "metadata": {
        "id": "6Fgp8GjCKuCm",
        "colab": {
          "base_uri": "https://localhost:8080/"
        },
        "outputId": "d16d66a5-95b3-4e4a-e3f3-15e8b660afc8"
      },
      "execution_count": 179,
      "outputs": [
        {
          "output_type": "stream",
          "name": "stdout",
          "text": [
            "[array([1, 2]), array([3, 4, 5, 6]), array([7, 8, 9])]\n"
          ]
        }
      ]
    },
    {
      "cell_type": "markdown",
      "source": [
        "# Mean"
      ],
      "metadata": {
        "id": "wQfRjQMhLXY9"
      }
    },
    {
      "cell_type": "code",
      "source": [
        "my_array = np.array([1, 2, 3, 4, 5])\n",
        "\n",
        "# Calculate the mean of the array\n",
        "mean_value = np.mean(my_array)\n",
        "\n",
        "print(mean_value)"
      ],
      "metadata": {
        "id": "F9s94-pYK6GT",
        "colab": {
          "base_uri": "https://localhost:8080/"
        },
        "outputId": "faf87e32-97d9-4ff7-bbad-e8292361ee98"
      },
      "execution_count": 180,
      "outputs": [
        {
          "output_type": "stream",
          "name": "stdout",
          "text": [
            "3.0\n"
          ]
        }
      ]
    },
    {
      "cell_type": "code",
      "source": [
        "my_array = np.array([[1, 2, 3], [4, 5, 6]])\n",
        "print(my_array)\n",
        "print('-'*40)\n",
        "\n",
        "# Calculate the mean along axis 0 (mean of each column)\n",
        "mean_axis0 = np.mean(my_array, axis=0)\n",
        "\n",
        "print(\"Mean along axis 0 (column-wise):\")\n",
        "print(mean_axis0)\n",
        "print('-'*40)\n",
        "\n",
        "# Calculate the mean along axis 1 (mean of each row)\n",
        "mean_axis1 = np.mean(my_array, axis=1)\n",
        "\n",
        "print(\"Mean along axis 1 (row-wise):\")\n",
        "print(mean_axis1)\n"
      ],
      "metadata": {
        "id": "_2FLKTk2LZ7N",
        "colab": {
          "base_uri": "https://localhost:8080/"
        },
        "outputId": "f688f33e-b443-4fd7-9687-56c7752a8dbe"
      },
      "execution_count": 181,
      "outputs": [
        {
          "output_type": "stream",
          "name": "stdout",
          "text": [
            "[[1 2 3]\n",
            " [4 5 6]]\n",
            "----------------------------------------\n",
            "Mean along axis 0 (column-wise):\n",
            "[2.5 3.5 4.5]\n",
            "----------------------------------------\n",
            "Mean along axis 1 (row-wise):\n",
            "[2. 5.]\n"
          ]
        }
      ]
    },
    {
      "cell_type": "markdown",
      "source": [
        "# Median"
      ],
      "metadata": {
        "id": "aJDIsZK7Ls9y"
      }
    },
    {
      "cell_type": "code",
      "source": [
        "my_array = np.array([1, 2, 3, 4, 5])\n",
        "\n",
        "# Calculate the median of the array\n",
        "median_value = np.median(my_array)\n",
        "\n",
        "print(median_value)"
      ],
      "metadata": {
        "id": "oVOjNpOwMEhf",
        "colab": {
          "base_uri": "https://localhost:8080/"
        },
        "outputId": "96b02544-a019-493c-c438-3e7c9506c405"
      },
      "execution_count": 182,
      "outputs": [
        {
          "output_type": "stream",
          "name": "stdout",
          "text": [
            "3.0\n"
          ]
        }
      ]
    },
    {
      "cell_type": "code",
      "source": [
        "my_array = np.array([[1, 2, 3], [4, 5, 6]])\n",
        "print(my_array)\n",
        "print('-'*40)\n",
        "\n",
        "# Calculate the median along axis 0 (median of each column)\n",
        "median_axis0 = np.median(my_array, axis=0)\n",
        "\n",
        "print(\"median along axis 0 (column-wise):\")\n",
        "print(median_axis0)\n",
        "print('-'*40)\n",
        "\n",
        "# Calculate the median along axis 1 (median of each row)\n",
        "median_axis1 = np.median(my_array, axis=1)\n",
        "\n",
        "print(\"median along axis 1 (row-wise):\")\n",
        "print(median_axis1)\n"
      ],
      "metadata": {
        "id": "odMrrSFMMG61",
        "colab": {
          "base_uri": "https://localhost:8080/"
        },
        "outputId": "96cb5ca2-481f-4b25-8ed3-0308243cee13"
      },
      "execution_count": 183,
      "outputs": [
        {
          "output_type": "stream",
          "name": "stdout",
          "text": [
            "[[1 2 3]\n",
            " [4 5 6]]\n",
            "----------------------------------------\n",
            "median along axis 0 (column-wise):\n",
            "[2.5 3.5 4.5]\n",
            "----------------------------------------\n",
            "median along axis 1 (row-wise):\n",
            "[2. 5.]\n"
          ]
        }
      ]
    },
    {
      "cell_type": "markdown",
      "source": [
        "# Standard deviation."
      ],
      "metadata": {
        "id": "BBC0mAljMhoj"
      }
    },
    {
      "cell_type": "code",
      "source": [
        "my_array = np.array([1, 2, 3, 4, 5])\n",
        "\n",
        "# Calculate the standard deviation of the array\n",
        "std_value = np.std(my_array)\n",
        "\n",
        "print(std_value)"
      ],
      "metadata": {
        "id": "fI10vVIYMoQY",
        "colab": {
          "base_uri": "https://localhost:8080/"
        },
        "outputId": "0d38c653-96d8-4433-fa6b-5295b0269b2b"
      },
      "execution_count": 185,
      "outputs": [
        {
          "output_type": "stream",
          "name": "stdout",
          "text": [
            "1.4142135623730951\n"
          ]
        }
      ]
    },
    {
      "cell_type": "code",
      "source": [
        "my_array = np.array([[1, 2, 3], [4, 5, 6]])\n",
        "print(my_array)\n",
        "print('-'*40)\n",
        "\n",
        "# Calculate the standard deviation along axis 0 (standard deviation of each column)\n",
        "std_axis0 = np.std(my_array, axis=0)\n",
        "\n",
        "print(\"standard deviation along axis 0 (column-wise):\")\n",
        "print(std_axis0)\n",
        "print('-'*40)\n",
        "\n",
        "# Calculate the standard deviation along axis 1 (standard deviation of each row)\n",
        "std_axis1 = np.std(my_array, axis=1)\n",
        "\n",
        "print(\"standard deviation along axis 1 (row-wise):\")\n",
        "print(std_axis1)\n"
      ],
      "metadata": {
        "id": "F6rZ7T_vMQKb",
        "colab": {
          "base_uri": "https://localhost:8080/"
        },
        "outputId": "ceb927b8-2c93-49e8-d94b-d219405f2718"
      },
      "execution_count": 184,
      "outputs": [
        {
          "output_type": "stream",
          "name": "stdout",
          "text": [
            "[[1 2 3]\n",
            " [4 5 6]]\n",
            "----------------------------------------\n",
            "standard deviation along axis 0 (column-wise):\n",
            "[1.5 1.5 1.5]\n",
            "----------------------------------------\n",
            "standard deviation along axis 1 (row-wise):\n",
            "[0.81649658 0.81649658]\n"
          ]
        }
      ]
    },
    {
      "cell_type": "markdown",
      "source": [
        "# Variance"
      ],
      "metadata": {
        "id": "Pv8d5rRtMZjl"
      }
    },
    {
      "cell_type": "code",
      "source": [
        "my_array = np.array([1, 2, 3, 4, 5])\n",
        "\n",
        "# Calculate the variance of the array\n",
        "variance_value = np.var(my_array)\n",
        "\n",
        "print(variance_value)"
      ],
      "metadata": {
        "id": "a4Z7eeU2OZdW",
        "colab": {
          "base_uri": "https://localhost:8080/"
        },
        "outputId": "2bd68f6a-b3dd-43e3-bf89-3bf6837b2520"
      },
      "execution_count": 186,
      "outputs": [
        {
          "output_type": "stream",
          "name": "stdout",
          "text": [
            "2.0\n"
          ]
        }
      ]
    },
    {
      "cell_type": "code",
      "source": [
        "my_array = np.array([[1, 2, 3], [4, 5, 6]])\n",
        "print(my_array)\n",
        "print('-'*40)\n",
        "\n",
        "# Calculate the variance along axis 0 (variance of each column)\n",
        "variance_axis0 = np.var(my_array, axis=0)\n",
        "\n",
        "\n",
        "print(\"Variance along axis 0 (column-wise):\")\n",
        "print(variance_axis0)\n",
        "print('-'*40)\n",
        "\n",
        "# Calculate the variance along axis 1 (variance of each row)\n",
        "variance_axis1 = np.var(my_array, axis=1)\n",
        "print(\"Variance along axis 1 (row-wise):\")\n",
        "print(variance_axis1)"
      ],
      "metadata": {
        "id": "xFDUUAsxOb_W",
        "colab": {
          "base_uri": "https://localhost:8080/"
        },
        "outputId": "59908364-c0b8-4651-cc2d-1b2ae64ef55a"
      },
      "execution_count": 187,
      "outputs": [
        {
          "output_type": "stream",
          "name": "stdout",
          "text": [
            "[[1 2 3]\n",
            " [4 5 6]]\n",
            "----------------------------------------\n",
            "Variance along axis 0 (column-wise):\n",
            "[2.25 2.25 2.25]\n",
            "----------------------------------------\n",
            "Variance along axis 1 (row-wise):\n",
            "[0.66666667 0.66666667]\n"
          ]
        }
      ]
    },
    {
      "cell_type": "markdown",
      "source": [
        "# Sum"
      ],
      "metadata": {
        "id": "EAnhOL6dOdJH"
      }
    },
    {
      "cell_type": "code",
      "source": [
        "my_array = np.array([1, 2, 3, 4, 5])\n",
        "\n",
        "# Calculate the sum of the array\n",
        "sum_value = np.sum(my_array)\n",
        "\n",
        "print(sum_value)"
      ],
      "metadata": {
        "id": "dPkmeOY8Q2ZG",
        "colab": {
          "base_uri": "https://localhost:8080/"
        },
        "outputId": "a10d96b5-888a-4080-d82e-456ac3c36e30"
      },
      "execution_count": 188,
      "outputs": [
        {
          "output_type": "stream",
          "name": "stdout",
          "text": [
            "15\n"
          ]
        }
      ]
    },
    {
      "cell_type": "code",
      "source": [
        "my_array = np.array([[1, 2, 3], [4, 5, 6]])\n",
        "print(my_array)\n",
        "print('-'*40)\n",
        "\n",
        "# Calculate the sum along axis 0 (sum of each column)\n",
        "sum_axis0 = np.sum(my_array, axis=0)\n",
        "\n",
        "\n",
        "\n",
        "print(\"Sum along axis 0 (column-wise):\")\n",
        "print(sum_axis0)\n",
        "print('-'*40)\n",
        "\n",
        "# Calculate the sum along axis 1 (sum of each row)\n",
        "sum_axis1 = np.sum(my_array, axis=1)\n",
        "\n",
        "print(\"Sum along axis 1 (row-wise):\")\n",
        "print(sum_axis1)"
      ],
      "metadata": {
        "id": "MLQBHyfzQ56i",
        "colab": {
          "base_uri": "https://localhost:8080/"
        },
        "outputId": "87c46fd3-872d-45a5-c117-eaccf48bb4ed"
      },
      "execution_count": 189,
      "outputs": [
        {
          "output_type": "stream",
          "name": "stdout",
          "text": [
            "[[1 2 3]\n",
            " [4 5 6]]\n",
            "----------------------------------------\n",
            "Sum along axis 0 (column-wise):\n",
            "[5 7 9]\n",
            "----------------------------------------\n",
            "Sum along axis 1 (row-wise):\n",
            "[ 6 15]\n"
          ]
        }
      ]
    },
    {
      "cell_type": "markdown",
      "source": [
        "# Product"
      ],
      "metadata": {
        "id": "6F46u6PhQ7bf"
      }
    },
    {
      "cell_type": "code",
      "source": [
        "my_array = np.array([1, 2, 3, 4, 5])\n",
        "\n",
        "# Calculate the product of the array\n",
        "prod_value = np.prod(my_array)\n",
        "\n",
        "print(prod_value)"
      ],
      "metadata": {
        "id": "mSRmTla3RWJt",
        "colab": {
          "base_uri": "https://localhost:8080/"
        },
        "outputId": "83f0179d-e96f-4484-d573-9444e06bb6dd"
      },
      "execution_count": 190,
      "outputs": [
        {
          "output_type": "stream",
          "name": "stdout",
          "text": [
            "120\n"
          ]
        }
      ]
    },
    {
      "cell_type": "code",
      "source": [
        "my_array = np.array([[1, 2, 3], [4, 5, 6]])\n",
        "print(my_array)\n",
        "print('-'*40)\n",
        "\n",
        "# Calculate the product along axis 0 (product of each column)\n",
        "prod_axis0 = np.prod(my_array, axis=0)\n",
        "\n",
        "\n",
        "\n",
        "print(\"product along axis 0 (column-wise):\")\n",
        "print(prod_axis0)\n",
        "print('-'*40)\n",
        "\n",
        "# Calculate the product along axis 1 (product of each row)\n",
        "prod_axis1 = np.prod(my_array, axis=1)\n",
        "\n",
        "print(\"product along axis 1 (row-wise):\")\n",
        "print(prod_axis1)"
      ],
      "metadata": {
        "id": "w9CAcHtmRWVS",
        "colab": {
          "base_uri": "https://localhost:8080/"
        },
        "outputId": "b156784e-f4e9-4528-d506-5b11b5734e87"
      },
      "execution_count": 191,
      "outputs": [
        {
          "output_type": "stream",
          "name": "stdout",
          "text": [
            "[[1 2 3]\n",
            " [4 5 6]]\n",
            "----------------------------------------\n",
            "product along axis 0 (column-wise):\n",
            "[ 4 10 18]\n",
            "----------------------------------------\n",
            "product along axis 1 (row-wise):\n",
            "[  6 120]\n"
          ]
        }
      ]
    },
    {
      "cell_type": "markdown",
      "source": [
        "# Cumulative sum."
      ],
      "metadata": {
        "id": "gJEkhieJRWgh"
      }
    },
    {
      "cell_type": "code",
      "source": [
        "my_array = np.array([1, 2, 3, 4, 5])\n",
        "\n",
        "# Calculate the cumulative sum of the array\n",
        "cumulative_sum = np.cumsum(my_array)\n",
        "\n",
        "print(cumulative_sum)"
      ],
      "metadata": {
        "id": "GwM9AQO8RWsh",
        "colab": {
          "base_uri": "https://localhost:8080/"
        },
        "outputId": "d209f3d2-1a65-4633-c197-1a155cc02da5"
      },
      "execution_count": 192,
      "outputs": [
        {
          "output_type": "stream",
          "name": "stdout",
          "text": [
            "[ 1  3  6 10 15]\n"
          ]
        }
      ]
    },
    {
      "cell_type": "code",
      "source": [
        "my_array = np.array([[1, 2, 3], [4, 5, 6]])\n",
        "print(my_array)\n",
        "print('-'*40)\n",
        "\n",
        "# Calculate the cumulative sum along axis 0 (column-wise)\n",
        "cumulative_sum_axis0 = np.cumsum(my_array, axis=0)\n",
        "\n",
        "\n",
        "print(\"Cumulative sum along axis 0 (column-wise):\")\n",
        "print(cumulative_sum_axis0)\n",
        "print('-'*40)\n",
        "\n",
        "# Calculate the cumulative sum along axis 1 (row-wise)\n",
        "cumulative_sum_axis1 = np.cumsum(my_array, axis=1)\n",
        "print(\"Cumulative sum along axis 1 (row-wise):\")\n",
        "print(cumulative_sum_axis1)\n"
      ],
      "metadata": {
        "id": "FY_mhQeqRW37",
        "colab": {
          "base_uri": "https://localhost:8080/"
        },
        "outputId": "d8bbc6a0-5b55-4438-d39e-1dbb20be93cc"
      },
      "execution_count": 193,
      "outputs": [
        {
          "output_type": "stream",
          "name": "stdout",
          "text": [
            "[[1 2 3]\n",
            " [4 5 6]]\n",
            "----------------------------------------\n",
            "Cumulative sum along axis 0 (column-wise):\n",
            "[[1 2 3]\n",
            " [5 7 9]]\n",
            "----------------------------------------\n",
            "Cumulative sum along axis 1 (row-wise):\n",
            "[[ 1  3  6]\n",
            " [ 4  9 15]]\n"
          ]
        }
      ]
    },
    {
      "cell_type": "markdown",
      "source": [
        "# Cumulative product."
      ],
      "metadata": {
        "id": "4MmEdxAURXD0"
      }
    },
    {
      "cell_type": "code",
      "source": [
        "my_array = np.array([1, 2, 3, 4, 5])\n",
        "\n",
        "# Calculate the cumulative product of the array\n",
        "cumulative_product = np.cumprod(my_array)\n",
        "\n",
        "print(cumulative_product)"
      ],
      "metadata": {
        "id": "1wYq-EzLRXP-",
        "colab": {
          "base_uri": "https://localhost:8080/"
        },
        "outputId": "c5a5b8e5-1a81-4ef6-aaf7-370895457aa1"
      },
      "execution_count": 194,
      "outputs": [
        {
          "output_type": "stream",
          "name": "stdout",
          "text": [
            "[  1   2   6  24 120]\n"
          ]
        }
      ]
    },
    {
      "cell_type": "code",
      "source": [
        "my_array = np.array([[1, 2, 3], [4, 5, 6]])\n",
        "print(my_array)\n",
        "print('-'*40)\n",
        "\n",
        "# Calculate the cumulative product along axis 0 (column-wise)\n",
        "cumulative_product_axis0 = np.cumprod(my_array, axis=0)\n",
        "\n",
        "\n",
        "print(\"Cumulative product along axis 0 (column-wise):\")\n",
        "print(cumulative_product_axis0)\n",
        "print('-'*40)\n",
        "\n",
        "\n",
        "# Calculate the cumulative product along axis 1 (row-wise)\n",
        "cumulative_product_axis1 = np.cumprod(my_array, axis=1)\n",
        "print(\"Cumulative product along axis 1 (row-wise):\")\n",
        "print(cumulative_product_axis1)"
      ],
      "metadata": {
        "id": "jCzlTE2NRXbo",
        "colab": {
          "base_uri": "https://localhost:8080/"
        },
        "outputId": "f2d63128-d162-4ac1-92c0-b537c5641510"
      },
      "execution_count": 195,
      "outputs": [
        {
          "output_type": "stream",
          "name": "stdout",
          "text": [
            "[[1 2 3]\n",
            " [4 5 6]]\n",
            "----------------------------------------\n",
            "Cumulative product along axis 0 (column-wise):\n",
            "[[ 1  2  3]\n",
            " [ 4 10 18]]\n",
            "----------------------------------------\n",
            "Cumulative product along axis 1 (row-wise):\n",
            "[[  1   2   6]\n",
            " [  4  20 120]]\n"
          ]
        }
      ]
    },
    {
      "cell_type": "markdown",
      "source": [
        "# Unique"
      ],
      "metadata": {
        "id": "ZJN30GNBRVNv"
      }
    },
    {
      "cell_type": "code",
      "source": [
        "my_array = np.array([1, 2, 3, 4, 2, 3, 5, 6, 1])\n",
        "\n",
        "# Find the unique elements in the array\n",
        "unique_elements = np.unique(my_array)\n",
        "\n",
        "print(unique_elements)"
      ],
      "metadata": {
        "id": "hBm80UMDUEy3",
        "colab": {
          "base_uri": "https://localhost:8080/"
        },
        "outputId": "702d8860-596d-4019-a553-77a7474298a0"
      },
      "execution_count": 196,
      "outputs": [
        {
          "output_type": "stream",
          "name": "stdout",
          "text": [
            "[1 2 3 4 5 6]\n"
          ]
        }
      ]
    },
    {
      "cell_type": "markdown",
      "source": [
        "The np.unique function sorts the unique elements in ascending order by default. If you want to preserve the original order of the elements, you can pass the return_index=True parameter to also get the indices of the unique elements."
      ],
      "metadata": {
        "id": "ZdgqyrWcViL6"
      }
    },
    {
      "cell_type": "code",
      "source": [
        "my_array = np.array([1, 2, 3, 4, 2, 3, 5, 6, 1])\n",
        "print(my_array)\n",
        "print('-'*40)\n",
        "\n",
        "# Find the unique elements and their indices in the array\n",
        "unique_elements, indices = np.unique(my_array, return_index=True)\n",
        "\n",
        "print(\"Unique elements:\")\n",
        "print(unique_elements)\n",
        "print('-'*40)\n",
        "\n",
        "print(\"Indices of unique elements:\")\n",
        "print(indices)"
      ],
      "metadata": {
        "id": "LbiD8Ag1UGTl",
        "colab": {
          "base_uri": "https://localhost:8080/"
        },
        "outputId": "124e1483-7083-4180-f6e0-27dfb64affbb"
      },
      "execution_count": 197,
      "outputs": [
        {
          "output_type": "stream",
          "name": "stdout",
          "text": [
            "[1 2 3 4 2 3 5 6 1]\n",
            "----------------------------------------\n",
            "Unique elements:\n",
            "[1 2 3 4 5 6]\n",
            "----------------------------------------\n",
            "Indices of unique elements:\n",
            "[0 1 2 3 6 7]\n"
          ]
        }
      ]
    },
    {
      "cell_type": "markdown",
      "source": [
        "# Argsort"
      ],
      "metadata": {
        "id": "k-uZkVbfVQET"
      }
    },
    {
      "cell_type": "code",
      "source": [
        "my_array = np.array([10, 5, 8, 2, 3])\n",
        "\n",
        "# Get the indices that would sort the array\n",
        "sorted_indices = np.argsort(my_array)\n",
        "\n",
        "print(sorted_indices)"
      ],
      "metadata": {
        "id": "lpcCnBQrWSfC",
        "colab": {
          "base_uri": "https://localhost:8080/"
        },
        "outputId": "79725233-fc0c-4a69-9d7a-5ee25626215b"
      },
      "execution_count": 198,
      "outputs": [
        {
          "output_type": "stream",
          "name": "stdout",
          "text": [
            "[3 4 1 2 0]\n"
          ]
        }
      ]
    },
    {
      "cell_type": "code",
      "source": [
        "# Then you can use this to sort the array.\n",
        "sorted_array = my_array[sorted_indices]\n",
        "\n",
        "print(sorted_array)"
      ],
      "metadata": {
        "id": "zlw3eR2VWTFI",
        "colab": {
          "base_uri": "https://localhost:8080/"
        },
        "outputId": "00509153-030f-480e-e986-f5ffcea9711c"
      },
      "execution_count": 199,
      "outputs": [
        {
          "output_type": "stream",
          "name": "stdout",
          "text": [
            "[ 2  3  5  8 10]\n"
          ]
        }
      ]
    },
    {
      "cell_type": "markdown",
      "source": [
        "# Sort."
      ],
      "metadata": {
        "id": "pItDWpbyWzPa"
      }
    },
    {
      "cell_type": "code",
      "source": [
        "my_array = np.array([10, 5, 8, 2, 3])\n",
        "\n",
        "# Sort the array in ascending order\n",
        "sorted_array = np.sort(my_array)\n",
        "\n",
        "print(sorted_array)"
      ],
      "metadata": {
        "id": "06vcl6paXdo0",
        "colab": {
          "base_uri": "https://localhost:8080/"
        },
        "outputId": "42a14d09-7b6f-4173-a1bd-a2d5f5b5aa26"
      },
      "execution_count": 200,
      "outputs": [
        {
          "output_type": "stream",
          "name": "stdout",
          "text": [
            "[ 2  3  5  8 10]\n"
          ]
        }
      ]
    },
    {
      "cell_type": "code",
      "source": [
        "# For descending.\n",
        "my_array = np.array([10, 5, 8, 2, 3])\n",
        "\n",
        "# Sort the array in descending order\n",
        "sorted_array_descending = np.sort(my_array)[::-1]\n",
        "\n",
        "print(sorted_array_descending)"
      ],
      "metadata": {
        "id": "19sjeylZYdwX",
        "colab": {
          "base_uri": "https://localhost:8080/"
        },
        "outputId": "5938f656-e5e3-4b4f-962c-126c834b81e0"
      },
      "execution_count": 201,
      "outputs": [
        {
          "output_type": "stream",
          "name": "stdout",
          "text": [
            "[10  8  5  3  2]\n"
          ]
        }
      ]
    },
    {
      "cell_type": "code",
      "source": [
        "my_array = np.array([[5, 2, 3],\n",
        "                     [8, 1, 4]])\n",
        "print(my_array)\n",
        "print('-'*40)\n",
        "\n",
        "# Sort the array along axis 1 (row-wise)\n",
        "sorted_array_axis1 = np.sort(my_array, axis=1)\n",
        "\n",
        "print(\"Sorted array along axis 1 (row-wise):\")\n",
        "print(sorted_array_axis1)\n",
        "print('-'*40)\n",
        "\n",
        "# Sort the array along axis 0 (column-wise)\n",
        "sorted_array_axis0 = np.sort(my_array, axis=0)\n",
        "print(\"Sorted array along axis 0 (column-wise):\")\n",
        "print(sorted_array_axis0)"
      ],
      "metadata": {
        "id": "_ho1yj4PXgu9",
        "colab": {
          "base_uri": "https://localhost:8080/"
        },
        "outputId": "58466f53-a408-4446-f651-011d54cf63cc"
      },
      "execution_count": 202,
      "outputs": [
        {
          "output_type": "stream",
          "name": "stdout",
          "text": [
            "[[5 2 3]\n",
            " [8 1 4]]\n",
            "----------------------------------------\n",
            "Sorted array along axis 1 (row-wise):\n",
            "[[2 3 5]\n",
            " [1 4 8]]\n",
            "----------------------------------------\n",
            "Sorted array along axis 0 (column-wise):\n",
            "[[5 1 3]\n",
            " [8 2 4]]\n"
          ]
        }
      ]
    },
    {
      "cell_type": "markdown",
      "source": [
        "# Where."
      ],
      "metadata": {
        "id": "qbRYMBYMYJZK"
      }
    },
    {
      "cell_type": "code",
      "source": [
        "my_array = np.array([1, 2, 3, 4, 5])\n",
        "\n",
        "# Find the indices where the elements are greater than 3\n",
        "indices = np.where(my_array > 3)\n",
        "\n",
        "print(indices)"
      ],
      "metadata": {
        "id": "WvjjjgYQiGYp",
        "colab": {
          "base_uri": "https://localhost:8080/"
        },
        "outputId": "d8a21628-0fc7-46b8-eeb5-ab9f334d3d4f"
      },
      "execution_count": 203,
      "outputs": [
        {
          "output_type": "stream",
          "name": "stdout",
          "text": [
            "(array([3, 4]),)\n"
          ]
        }
      ]
    },
    {
      "cell_type": "code",
      "source": [
        "my_array = np.array([1, 2, 3, 4, 5])\n",
        "\n",
        "# Assign -1 to elements that are less than or equal to 3\n",
        "modified_array = np.where(my_array <= 3, -1, my_array)\n",
        "\n",
        "print(modified_array)"
      ],
      "metadata": {
        "id": "33ps5UTiiHL-",
        "colab": {
          "base_uri": "https://localhost:8080/"
        },
        "outputId": "6ae27fdc-5b7a-4e12-d1a9-34cb911e33ae"
      },
      "execution_count": 204,
      "outputs": [
        {
          "output_type": "stream",
          "name": "stdout",
          "text": [
            "[-1 -1 -1  4  5]\n"
          ]
        }
      ]
    },
    {
      "cell_type": "markdown",
      "source": [
        "# Any."
      ],
      "metadata": {
        "id": "Oa44TZpDicMf"
      }
    },
    {
      "cell_type": "code",
      "source": [
        "my_array = np.array([1, 2, 3, 4, 5])\n",
        "\n",
        "# Check if any element is greater than 3\n",
        "result = np.any(my_array > 3)\n",
        "\n",
        "print(result)"
      ],
      "metadata": {
        "id": "fPn-aBrD06Jh",
        "colab": {
          "base_uri": "https://localhost:8080/"
        },
        "outputId": "a42c66ec-fbe3-4680-a70f-fdb0d3915e4f"
      },
      "execution_count": 205,
      "outputs": [
        {
          "output_type": "stream",
          "name": "stdout",
          "text": [
            "True\n"
          ]
        }
      ]
    },
    {
      "cell_type": "code",
      "source": [
        "my_array = np.array([[1, 2, 3],\n",
        "                     [4, 5, 6]])\n",
        "\n",
        "# Check if any element is even\n",
        "result = np.any(my_array % 2 == 0)\n",
        "\n",
        "print(result)"
      ],
      "metadata": {
        "id": "FHzmDdK-09rv",
        "colab": {
          "base_uri": "https://localhost:8080/"
        },
        "outputId": "4d317552-b0df-41e4-bf60-2ed343673b2a"
      },
      "execution_count": 206,
      "outputs": [
        {
          "output_type": "stream",
          "name": "stdout",
          "text": [
            "True\n"
          ]
        }
      ]
    },
    {
      "cell_type": "markdown",
      "source": [
        "# All."
      ],
      "metadata": {
        "id": "qPMXg4pj1gYp"
      }
    },
    {
      "cell_type": "code",
      "source": [
        "my_array = np.array([1, 2, 3, 4, 5])\n",
        "\n",
        "# Check if all elements are greater than 0\n",
        "result = np.all(my_array > 0)\n",
        "\n",
        "print(result)\n"
      ],
      "metadata": {
        "id": "DRX_aKv61gle",
        "colab": {
          "base_uri": "https://localhost:8080/"
        },
        "outputId": "94b3a384-57dd-46cd-d098-216863d76d96"
      },
      "execution_count": 207,
      "outputs": [
        {
          "output_type": "stream",
          "name": "stdout",
          "text": [
            "True\n"
          ]
        }
      ]
    },
    {
      "cell_type": "code",
      "source": [
        "my_array = np.array([[1, 2, 3],\n",
        "                     [4, 5, 6]])\n",
        "\n",
        "# Check if all elements are even\n",
        "result = np.all(my_array % 2 == 0)\n",
        "\n",
        "print(result)"
      ],
      "metadata": {
        "id": "y5zZgvZ81gxs",
        "colab": {
          "base_uri": "https://localhost:8080/"
        },
        "outputId": "78e311e1-2c9d-44d4-8f60-9030bc24f09d"
      },
      "execution_count": 208,
      "outputs": [
        {
          "output_type": "stream",
          "name": "stdout",
          "text": [
            "False\n"
          ]
        }
      ]
    },
    {
      "cell_type": "markdown",
      "source": [
        "# Matrix multiplication."
      ],
      "metadata": {
        "id": "OzyyPNDh1g92"
      }
    },
    {
      "cell_type": "code",
      "source": [
        "matrix1 = np.array([[1, 2], [3, 4]])\n",
        "matrix2 = np.array([[5, 6], [7, 8]])\n",
        "\n",
        "# Perform matrix multiplication\n",
        "result = np.dot(matrix1, matrix2)\n",
        "\n",
        "print(result)"
      ],
      "metadata": {
        "id": "mjX3FTqP1hKQ",
        "colab": {
          "base_uri": "https://localhost:8080/"
        },
        "outputId": "18db67cd-2bd3-42dc-88eb-4c34c734e30d"
      },
      "execution_count": 209,
      "outputs": [
        {
          "output_type": "stream",
          "name": "stdout",
          "text": [
            "[[19 22]\n",
            " [43 50]]\n"
          ]
        }
      ]
    },
    {
      "cell_type": "code",
      "source": [
        "array1 = np.array([1, 2, 3])\n",
        "array2 = np.array([4, 5, 6])\n",
        "\n",
        "# Perform matrix multiplication\n",
        "result = np.dot(array1, array2)\n",
        "\n",
        "print(result)"
      ],
      "metadata": {
        "id": "lZxFHuUU1hW-",
        "colab": {
          "base_uri": "https://localhost:8080/"
        },
        "outputId": "3e858c2b-9772-415c-b684-2f7595b6a4c4"
      },
      "execution_count": 210,
      "outputs": [
        {
          "output_type": "stream",
          "name": "stdout",
          "text": [
            "32\n"
          ]
        }
      ]
    },
    {
      "cell_type": "code",
      "source": [],
      "metadata": {
        "id": "TdVbUxOO3Kjm"
      },
      "execution_count": null,
      "outputs": []
    },
    {
      "cell_type": "code",
      "source": [
        "matrix1 = np.array([[1, 2], [3, 4]])\n",
        "matrix2 = np.array([[5, 6], [7, 8]])\n",
        "\n",
        "# Perform matrix multiplication\n",
        "result = np.matmul(matrix1, matrix2)\n",
        "\n",
        "print(result)"
      ],
      "metadata": {
        "id": "9kZntCT_3Kx6",
        "colab": {
          "base_uri": "https://localhost:8080/"
        },
        "outputId": "83ffa53b-900f-493b-8753-262bcea20a22"
      },
      "execution_count": 211,
      "outputs": [
        {
          "output_type": "stream",
          "name": "stdout",
          "text": [
            "[[19 22]\n",
            " [43 50]]\n"
          ]
        }
      ]
    },
    {
      "cell_type": "code",
      "source": [
        "array1 = np.array([1, 2, 3])\n",
        "array2 = np.array([4, 5, 6])\n",
        "\n",
        "# Perform matrix multiplication\n",
        "result = np.matmul(array1, array2)\n",
        "\n",
        "print(result)"
      ],
      "metadata": {
        "id": "EpdXxBfo3K-X",
        "colab": {
          "base_uri": "https://localhost:8080/"
        },
        "outputId": "9d707dbb-e8b0-4b51-feea-566e203b08fb"
      },
      "execution_count": 212,
      "outputs": [
        {
          "output_type": "stream",
          "name": "stdout",
          "text": [
            "32\n"
          ]
        }
      ]
    },
    {
      "cell_type": "markdown",
      "source": [
        "# Covariance matrix."
      ],
      "metadata": {
        "id": "cqLZK-z-5MXe"
      }
    },
    {
      "cell_type": "code",
      "source": [
        "data = np.array([[1, 2, 3],\n",
        "                 [4, 5, 6],\n",
        "                 [7, 8, 9]])\n",
        "print(data)\n",
        "print('-'*40)\n",
        "\n",
        "# Calculate the covariance matrix\n",
        "cov_matrix = np.cov(data)\n",
        "\n",
        "print(cov_matrix)"
      ],
      "metadata": {
        "id": "GOfWouyG3TX2",
        "colab": {
          "base_uri": "https://localhost:8080/"
        },
        "outputId": "37f87547-ffe5-4af2-bf3a-7d4372202b97"
      },
      "execution_count": 213,
      "outputs": [
        {
          "output_type": "stream",
          "name": "stdout",
          "text": [
            "[[1 2 3]\n",
            " [4 5 6]\n",
            " [7 8 9]]\n",
            "----------------------------------------\n",
            "[[1. 1. 1.]\n",
            " [1. 1. 1.]\n",
            " [1. 1. 1.]]\n"
          ]
        }
      ]
    },
    {
      "cell_type": "markdown",
      "source": [
        "# Calculate the correlation."
      ],
      "metadata": {
        "id": "_DiCvQR35LQz"
      }
    },
    {
      "cell_type": "code",
      "source": [
        "array1 = np.array([1, 2, 3, 4, 5])\n",
        "array2 = np.array([6, 7, 8, 9, 10])\n",
        "\n",
        "# Calculate the correlation\n",
        "correlation = np.correlate(array1, array2)\n",
        "\n",
        "print(correlation)"
      ],
      "metadata": {
        "id": "d5tAZlLP4VGq",
        "colab": {
          "base_uri": "https://localhost:8080/"
        },
        "outputId": "ceca4a59-883d-40d8-a473-97e1b52fd1f9"
      },
      "execution_count": 214,
      "outputs": [
        {
          "output_type": "stream",
          "name": "stdout",
          "text": [
            "[130]\n"
          ]
        }
      ]
    },
    {
      "cell_type": "markdown",
      "source": [
        "# Check for infinity value."
      ],
      "metadata": {
        "id": "XkZBBhIrKNVm"
      }
    },
    {
      "cell_type": "code",
      "source": [
        "arr = np.array([1.0, np.inf, -np.inf, 2.0, np.nan])\n",
        "\n",
        "# Check for infinity\n",
        "is_inf = np.isinf(arr)\n",
        "\n",
        "print(is_inf)"
      ],
      "metadata": {
        "id": "tvJMVeW_Kh2U",
        "colab": {
          "base_uri": "https://localhost:8080/"
        },
        "outputId": "92150e4c-3757-4051-b2d1-39e5d01949fa"
      },
      "execution_count": 215,
      "outputs": [
        {
          "output_type": "stream",
          "name": "stdout",
          "text": [
            "[False  True  True False False]\n"
          ]
        }
      ]
    },
    {
      "cell_type": "markdown",
      "source": [
        "# Check for NaN value."
      ],
      "metadata": {
        "id": "nV3TR_l7KiWK"
      }
    },
    {
      "cell_type": "code",
      "source": [
        "arr = np.array([1.0, np.inf, -np.inf, 2.0, np.nan])\n",
        "\n",
        "# Check for infinity\n",
        "is_nan = np.isnan(arr)\n",
        "\n",
        "print(is_nan)"
      ],
      "metadata": {
        "id": "z9qqoKS-Kk4C",
        "colab": {
          "base_uri": "https://localhost:8080/"
        },
        "outputId": "0de49fe9-0adc-4e05-cec5-a9202822a286"
      },
      "execution_count": 216,
      "outputs": [
        {
          "output_type": "stream",
          "name": "stdout",
          "text": [
            "[False False False False  True]\n"
          ]
        }
      ]
    },
    {
      "cell_type": "markdown",
      "source": [
        "# Save the array to a file."
      ],
      "metadata": {
        "id": "yJ7RiiymKlT2"
      }
    },
    {
      "cell_type": "code",
      "source": [
        "arr = np.array([1, 2, 3, 4, 5])\n",
        "\n",
        "# Save the array to a file\n",
        "np.save('my_array.npy', arr)"
      ],
      "metadata": {
        "id": "vrFwT8u-Ln3W"
      },
      "execution_count": 217,
      "outputs": []
    },
    {
      "cell_type": "code",
      "source": [
        "# Load the array from the file\n",
        "loaded_array = np.load('my_array.npy')\n",
        "\n",
        "print(loaded_array)"
      ],
      "metadata": {
        "id": "M4XJ9KdMLqIt",
        "colab": {
          "base_uri": "https://localhost:8080/"
        },
        "outputId": "eb6cfdb4-72e7-4401-8162-3a51e69f9d42"
      },
      "execution_count": 218,
      "outputs": [
        {
          "output_type": "stream",
          "name": "stdout",
          "text": [
            "[1 2 3 4 5]\n"
          ]
        }
      ]
    }
  ]
}